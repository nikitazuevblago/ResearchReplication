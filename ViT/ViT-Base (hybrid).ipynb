{
 "cells": [
  {
   "cell_type": "code",
   "execution_count": 91,
   "metadata": {},
   "outputs": [],
   "source": [
    "import requests\n",
    "from PIL import Image\n",
    "from io import BytesIO\n",
    "import torch\n",
    "from torch import nn\n",
    "import torchvision.transforms as transforms"
   ]
  },
  {
   "cell_type": "markdown",
   "metadata": {},
   "source": [
    "## Step 0: Download image "
   ]
  },
  {
   "cell_type": "code",
   "execution_count": 92,
   "metadata": {},
   "outputs": [
    {
     "data": {
      "text/plain": [
       "torch.Size([3, 224, 224])"
      ]
     },
     "execution_count": 92,
     "metadata": {},
     "output_type": "execute_result"
    }
   ],
   "source": [
    "# URL of a random image\n",
    "url = 'https://lmb.informatik.uni-freiburg.de/people/dosovits/Dosovitskiy_photo.JPG'\n",
    "\n",
    "# Download the image\n",
    "response = requests.get(url)\n",
    "img = Image.open(BytesIO(response.content))\n",
    "\n",
    "# Resize and convert to tensor\n",
    "img_transform = transforms.Compose([\n",
    "    transforms.Resize(size=(224,224)),\n",
    "    transforms.ToTensor()\n",
    "])\n",
    "img_tensor = img_transform(img)\n",
    "img_tensor.shape"
   ]
  },
  {
   "cell_type": "markdown",
   "metadata": {},
   "source": [
    "# Obtain a 1D sequence from a 2D image for input to the ViT encoder."
   ]
  },
  {
   "cell_type": "markdown",
   "metadata": {},
   "source": [
    "## Step 1: Split image tensor into patches using CNN "
   ]
  },
  {
   "cell_type": "code",
   "execution_count": 93,
   "metadata": {},
   "outputs": [
    {
     "data": {
      "text/plain": [
       "torch.Size([768, 14, 14])"
      ]
     },
     "execution_count": 93,
     "metadata": {},
     "output_type": "execute_result"
    }
   ],
   "source": [
    "patch_size = 16\n",
    "\n",
    "# Hidden size D (dimensions)\n",
    "vector_size = 768\n",
    "\n",
    "patcher = nn.Conv2d(in_channels=3, out_channels=vector_size,\n",
    "                    kernel_size=patch_size, stride=patch_size)\n",
    "patched_img = patcher(img_tensor)\n",
    "patched_img.shape"
   ]
  },
  {
   "cell_type": "markdown",
   "metadata": {},
   "source": [
    "## Step 2: Flatten 2d patches and permute dimensions"
   ]
  },
  {
   "cell_type": "code",
   "execution_count": 94,
   "metadata": {},
   "outputs": [
    {
     "data": {
      "text/plain": [
       "torch.Size([196, 768])"
      ]
     },
     "execution_count": 94,
     "metadata": {},
     "output_type": "execute_result"
    }
   ],
   "source": [
    "flatter = nn.Flatten(start_dim=1)\n",
    "\n",
    "# Changing dimensions due to input requirements of MSA (multi-head self attention)\n",
    "flattened_patches = flatter(patched_img).permute(1,0)\n",
    "flattened_patches.shape"
   ]
  },
  {
   "cell_type": "markdown",
   "metadata": {},
   "source": [
    "## Step 3: Prepend extra learnable [class] embedding"
   ]
  },
  {
   "cell_type": "code",
   "execution_count": 95,
   "metadata": {},
   "outputs": [
    {
     "data": {
      "text/plain": [
       "torch.Size([197, 768])"
      ]
     },
     "execution_count": 95,
     "metadata": {},
     "output_type": "execute_result"
    }
   ],
   "source": [
    "class_token = nn.Parameter(torch.randn(1, 768))\n",
    "flattened_patches = torch.cat((class_token, flattened_patches))\n",
    "flattened_patches.shape"
   ]
  },
  {
   "cell_type": "markdown",
   "metadata": {},
   "source": [
    "## Step 4: Add position embeddings"
   ]
  },
  {
   "cell_type": "code",
   "execution_count": 96,
   "metadata": {},
   "outputs": [
    {
     "name": "stdout",
     "output_type": "stream",
     "text": [
      "First 3 dimensions of first patch of flattened_patches, pos_embs and their sum\n",
      "\n",
      " tensor([ 2.1320, -0.8590, -0.9590], grad_fn=<SliceBackward0>)\n",
      " tensor([ 2.0642, -0.6929, -0.0774], grad_fn=<SliceBackward0>)\n",
      " tensor([ 4.6624, -0.0000, -1.1514], grad_fn=<SliceBackward0>)\n"
     ]
    }
   ],
   "source": [
    "pos_embs = nn.Parameter(torch.randn(flattened_patches.shape))\n",
    "encoder_input =  pos_embs + flattened_patches\n",
    "\n",
    "dropout_rate = 0.1\n",
    "embedding_dropout = nn.Dropout(dropout_rate)\n",
    "encoder_input = embedding_dropout(encoder_input)\n",
    "\n",
    "print(f'First 3 dimensions of first patch of flattened_patches, pos_embs and their sum\\\n",
    "\\n\\n {flattened_patches[0][:3]}\\n {pos_embs[0][:3]}\\n {encoder_input[0][:3]}')"
   ]
  },
  {
   "cell_type": "markdown",
   "metadata": {},
   "source": [
    "# Create ViT encoder "
   ]
  },
  {
   "cell_type": "markdown",
   "metadata": {},
   "source": [
    "## Step 5: Layer Normalization, Multi-head Self-Attention and Residual connection"
   ]
  },
  {
   "cell_type": "code",
   "execution_count": 97,
   "metadata": {},
   "outputs": [
    {
     "name": "stdout",
     "output_type": "stream",
     "text": [
      "Normalized embeddings:\n",
      "    tensor([[ 3.1787, -0.0534, -0.8516]], grad_fn=<SliceBackward0>)\n",
      "Contextualized embeddings:\n",
      "    tensor([[-0.0159,  0.0503, -0.1340]], grad_fn=<SliceBackward0>)\n",
      "Embeddings after first skip or residual connection:\n",
      "   tensor([[ 4.6465,  0.0503, -1.2854]], grad_fn=<SliceBackward0>)\n"
     ]
    }
   ],
   "source": [
    "LN1 = nn.LayerNorm(vector_size)\n",
    "normalized_vecs = LN1(encoder_input).unsqueeze(0)\n",
    "print(f'Normalized embeddings:\\n    {normalized_vecs[:,0,:3]}')\n",
    "\n",
    "MSA = nn.MultiheadAttention(batch_first=True, num_heads=12, embed_dim=vector_size)\n",
    "contextualized_embs, _ = MSA(query=normalized_vecs, key=normalized_vecs, \n",
    "                            value=normalized_vecs, need_weights=False)\n",
    "print(f'Contextualized embeddings:\\n    {contextualized_embs[:,0,:3]}')\n",
    "\n",
    "intermediate_embeddings = encoder_input + contextualized_embs\n",
    "print(f'Embeddings after first skip or residual connection:\\n   {intermediate_embeddings[:,0,:3]}')"
   ]
  },
  {
   "cell_type": "markdown",
   "metadata": {},
   "source": [
    "## Step 6: Layer Normalization, Multi Layer Perceptron and Residual connection"
   ]
  },
  {
   "cell_type": "code",
   "execution_count": 98,
   "metadata": {},
   "outputs": [
    {
     "data": {
      "text/plain": [
       "torch.Size([1, 197, 768])"
      ]
     },
     "execution_count": 98,
     "metadata": {},
     "output_type": "execute_result"
    }
   ],
   "source": [
    "LN2 = nn.LayerNorm(vector_size)\n",
    "normalized_vecs = LN2(intermediate_embeddings)\n",
    "\n",
    "class MLP_block(nn.Module):\n",
    "    def __init__(self, MLP_size, dropout_rate):\n",
    "        super().__init__()\n",
    "        self.fc1 = nn.Linear(in_features=vector_size, out_features=MLP_size)\n",
    "        self.gelu = nn.GELU('tanh')\n",
    "        self.fc2 = nn.Linear(in_features=MLP_size, out_features=vector_size)\n",
    "\n",
    "        # Applied after each dense layer\n",
    "        self.dropout = nn.Dropout(p=dropout_rate)\n",
    "    \n",
    "    def forward(self, x):\n",
    "        x = self.dropout(self.fc1(x))\n",
    "        x = self.gelu(x)\n",
    "        x = self.dropout(self.fc2(x))\n",
    "        return x\n",
    "\n",
    "MLP = MLP_block(MLP_size=3072, dropout_rate=dropout_rate)\n",
    "mlp_embeddings = MLP(normalized_vecs)\n",
    "encoder_out_embeddings = intermediate_embeddings + mlp_embeddings\n",
    "encoder_out_embeddings.shape"
   ]
  },
  {
   "cell_type": "markdown",
   "metadata": {},
   "source": [
    "# Create classification head"
   ]
  },
  {
   "cell_type": "markdown",
   "metadata": {},
   "source": [
    "## Step 7: Adjustable classifier"
   ]
  },
  {
   "cell_type": "code",
   "execution_count": 99,
   "metadata": {},
   "outputs": [
    {
     "data": {
      "text/plain": [
       "tensor([[0.3373, 0.1350]], grad_fn=<AddmmBackward0>)"
      ]
     },
     "execution_count": 99,
     "metadata": {},
     "output_type": "execute_result"
    }
   ],
   "source": [
    "classes = ['sausage', 'not a sausage']\n",
    "\n",
    "LNf = nn.LayerNorm(vector_size)\n",
    "normalized_embs = LNf(encoder_out_embeddings)\n",
    "\n",
    "# Single linear layer used during fine-tuning (while pre-training was used MLP with one hidden layer)\n",
    "classifier = nn.Linear(in_features=vector_size, out_features=len(classes))\n",
    "\n",
    "# Put [class] token in classifier head\n",
    "logits = classifier(normalized_embs[:,0])\n",
    "logits"
   ]
  },
  {
   "cell_type": "markdown",
   "metadata": {},
   "source": [
    "# Create ViT class (for fine-tuning) using steps"
   ]
  },
  {
   "cell_type": "code",
   "execution_count": 100,
   "metadata": {},
   "outputs": [],
   "source": [
    "class ViTEncoder(nn.Module):\n",
    "    def __init__(self, MLP_size, num_heads, vector_size, dropout_rate):\n",
    "        super().__init__()\n",
    "        self.LN1 = nn.LayerNorm(vector_size)\n",
    "        self.MSA = nn.MultiheadAttention(batch_first=True, num_heads=num_heads, embed_dim=vector_size)\n",
    "        self.LN2 = nn.LayerNorm(vector_size)\n",
    "        self.mlp = MLP_block(MLP_size, dropout_rate=dropout_rate)\n",
    "        \n",
    "\n",
    "    def forward(self, x):\n",
    "        normalized_vecs = self.LN1(x)\n",
    "        contextualized_embs, _ = self.MSA(query=normalized_vecs, key=normalized_vecs,\n",
    "                                            value=normalized_vecs, need_weights=False)\n",
    "        intermediate_embeddings = x + contextualized_embs\n",
    "        normalized_vecs = self.LN2(intermediate_embeddings)\n",
    "        x = self.mlp(normalized_vecs)\n",
    "        return x\n",
    "\n",
    "\n",
    "class ViTbasehybrid(nn.Module):\n",
    "    def __init__(self, num_labels:int, img_size:tuple[int, int], batch_size:int=4096,\n",
    "                    patch_size:int=16, dropout_rate:float=0.1, vector_size:int=768, \n",
    "                    num_heads:int=12, num_transformer_layers:int=12, MLP_size:int=3072):\n",
    "        super().__init__()\n",
    "\n",
    "        # Obtain 1d seq from 2d images\n",
    "        self.patcher = nn.Conv2d(in_channels=3, out_channels=vector_size,\n",
    "                    kernel_size=patch_size, stride=patch_size)\n",
    "        self.flatter = nn.Flatten(start_dim=2) #start_dim=2 because we added batch_size dim\n",
    "        self.class_token = nn.Parameter(torch.randn(batch_size, 1, 768), requires_grad=True)\n",
    "        assert (img_size[0]*img_size[1]) % patch_size == 0, 'Img size must be divisible by patch_size!'\n",
    "        number_of_patches = int((img_size[0]*img_size[1]) / patch_size**2)\n",
    "        self.pos_embs = nn.Parameter(torch.randn(batch_size, number_of_patches+1, vector_size), requires_grad=True)\n",
    "        self.dropout = nn.Dropout(dropout_rate)\n",
    "        \n",
    "        # Create encoder blocks\n",
    "        self.transformer_encoder = nn.Sequential(*[ViTEncoder(MLP_size,num_heads,\n",
    "                                                              vector_size,dropout_rate) \n",
    "                                                    for layer in range(num_transformer_layers)])\n",
    "\n",
    "        # Classifier\n",
    "        self.classifier = nn.Sequential(nn.LayerNorm(vector_size),\n",
    "                         nn.Linear(in_features=vector_size, out_features=num_labels))\n",
    "\n",
    "\n",
    "    def forward(self, x):\n",
    "        x = self.patcher(x)\n",
    "        x = self.flatter(x).permute(0,2,1)\n",
    "        x = torch.cat((self.class_token, x), dim=1)\n",
    "        x = self.pos_embs + x\n",
    "        x = self.dropout(x)\n",
    "        x = self.transformer_encoder(x)\n",
    "        x = self.classifier(x[:, 0])\n",
    "        return x "
   ]
  },
  {
   "cell_type": "code",
   "execution_count": 103,
   "metadata": {},
   "outputs": [
    {
     "data": {
      "text/plain": [
       "========================================================================================================================\n",
       "Layer (type (var_name))                  Input Shape          Output Shape         Param #              Trainable\n",
       "========================================================================================================================\n",
       "ViTbasehybrid (ViTbasehybrid)            [32, 3, 224, 224]    [32, 2]              4,866,048            True\n",
       "├─Conv2d (patcher)                       [32, 3, 224, 224]    [32, 768, 14, 14]    590,592              True\n",
       "├─Flatten (flatter)                      [32, 768, 14, 14]    [32, 768, 196]       --                   --\n",
       "├─Dropout (dropout)                      [32, 197, 768]       [32, 197, 768]       --                   --\n",
       "├─Sequential (transformer_encoder)       [32, 197, 768]       [32, 197, 768]       --                   True\n",
       "│    └─ViTEncoder (0)                    [32, 197, 768]       [32, 197, 768]       --                   True\n",
       "│    │    └─LayerNorm (LN1)              [32, 197, 768]       [32, 197, 768]       1,536                True\n",
       "│    │    └─MultiheadAttention (MSA)     --                   [32, 197, 768]       2,362,368            True\n",
       "│    │    └─LayerNorm (LN2)              [32, 197, 768]       [32, 197, 768]       1,536                True\n",
       "│    │    └─MLP_block (mlp)              [32, 197, 768]       [32, 197, 768]       4,722,432            True\n",
       "│    └─ViTEncoder (1)                    [32, 197, 768]       [32, 197, 768]       --                   True\n",
       "│    │    └─LayerNorm (LN1)              [32, 197, 768]       [32, 197, 768]       1,536                True\n",
       "│    │    └─MultiheadAttention (MSA)     --                   [32, 197, 768]       2,362,368            True\n",
       "│    │    └─LayerNorm (LN2)              [32, 197, 768]       [32, 197, 768]       1,536                True\n",
       "│    │    └─MLP_block (mlp)              [32, 197, 768]       [32, 197, 768]       4,722,432            True\n",
       "│    └─ViTEncoder (2)                    [32, 197, 768]       [32, 197, 768]       --                   True\n",
       "│    │    └─LayerNorm (LN1)              [32, 197, 768]       [32, 197, 768]       1,536                True\n",
       "│    │    └─MultiheadAttention (MSA)     --                   [32, 197, 768]       2,362,368            True\n",
       "│    │    └─LayerNorm (LN2)              [32, 197, 768]       [32, 197, 768]       1,536                True\n",
       "│    │    └─MLP_block (mlp)              [32, 197, 768]       [32, 197, 768]       4,722,432            True\n",
       "│    └─ViTEncoder (3)                    [32, 197, 768]       [32, 197, 768]       --                   True\n",
       "│    │    └─LayerNorm (LN1)              [32, 197, 768]       [32, 197, 768]       1,536                True\n",
       "│    │    └─MultiheadAttention (MSA)     --                   [32, 197, 768]       2,362,368            True\n",
       "│    │    └─LayerNorm (LN2)              [32, 197, 768]       [32, 197, 768]       1,536                True\n",
       "│    │    └─MLP_block (mlp)              [32, 197, 768]       [32, 197, 768]       4,722,432            True\n",
       "│    └─ViTEncoder (4)                    [32, 197, 768]       [32, 197, 768]       --                   True\n",
       "│    │    └─LayerNorm (LN1)              [32, 197, 768]       [32, 197, 768]       1,536                True\n",
       "│    │    └─MultiheadAttention (MSA)     --                   [32, 197, 768]       2,362,368            True\n",
       "│    │    └─LayerNorm (LN2)              [32, 197, 768]       [32, 197, 768]       1,536                True\n",
       "│    │    └─MLP_block (mlp)              [32, 197, 768]       [32, 197, 768]       4,722,432            True\n",
       "│    └─ViTEncoder (5)                    [32, 197, 768]       [32, 197, 768]       --                   True\n",
       "│    │    └─LayerNorm (LN1)              [32, 197, 768]       [32, 197, 768]       1,536                True\n",
       "│    │    └─MultiheadAttention (MSA)     --                   [32, 197, 768]       2,362,368            True\n",
       "│    │    └─LayerNorm (LN2)              [32, 197, 768]       [32, 197, 768]       1,536                True\n",
       "│    │    └─MLP_block (mlp)              [32, 197, 768]       [32, 197, 768]       4,722,432            True\n",
       "│    └─ViTEncoder (6)                    [32, 197, 768]       [32, 197, 768]       --                   True\n",
       "│    │    └─LayerNorm (LN1)              [32, 197, 768]       [32, 197, 768]       1,536                True\n",
       "│    │    └─MultiheadAttention (MSA)     --                   [32, 197, 768]       2,362,368            True\n",
       "│    │    └─LayerNorm (LN2)              [32, 197, 768]       [32, 197, 768]       1,536                True\n",
       "│    │    └─MLP_block (mlp)              [32, 197, 768]       [32, 197, 768]       4,722,432            True\n",
       "│    └─ViTEncoder (7)                    [32, 197, 768]       [32, 197, 768]       --                   True\n",
       "│    │    └─LayerNorm (LN1)              [32, 197, 768]       [32, 197, 768]       1,536                True\n",
       "│    │    └─MultiheadAttention (MSA)     --                   [32, 197, 768]       2,362,368            True\n",
       "│    │    └─LayerNorm (LN2)              [32, 197, 768]       [32, 197, 768]       1,536                True\n",
       "│    │    └─MLP_block (mlp)              [32, 197, 768]       [32, 197, 768]       4,722,432            True\n",
       "│    └─ViTEncoder (8)                    [32, 197, 768]       [32, 197, 768]       --                   True\n",
       "│    │    └─LayerNorm (LN1)              [32, 197, 768]       [32, 197, 768]       1,536                True\n",
       "│    │    └─MultiheadAttention (MSA)     --                   [32, 197, 768]       2,362,368            True\n",
       "│    │    └─LayerNorm (LN2)              [32, 197, 768]       [32, 197, 768]       1,536                True\n",
       "│    │    └─MLP_block (mlp)              [32, 197, 768]       [32, 197, 768]       4,722,432            True\n",
       "│    └─ViTEncoder (9)                    [32, 197, 768]       [32, 197, 768]       --                   True\n",
       "│    │    └─LayerNorm (LN1)              [32, 197, 768]       [32, 197, 768]       1,536                True\n",
       "│    │    └─MultiheadAttention (MSA)     --                   [32, 197, 768]       2,362,368            True\n",
       "│    │    └─LayerNorm (LN2)              [32, 197, 768]       [32, 197, 768]       1,536                True\n",
       "│    │    └─MLP_block (mlp)              [32, 197, 768]       [32, 197, 768]       4,722,432            True\n",
       "│    └─ViTEncoder (10)                   [32, 197, 768]       [32, 197, 768]       --                   True\n",
       "│    │    └─LayerNorm (LN1)              [32, 197, 768]       [32, 197, 768]       1,536                True\n",
       "│    │    └─MultiheadAttention (MSA)     --                   [32, 197, 768]       2,362,368            True\n",
       "│    │    └─LayerNorm (LN2)              [32, 197, 768]       [32, 197, 768]       1,536                True\n",
       "│    │    └─MLP_block (mlp)              [32, 197, 768]       [32, 197, 768]       4,722,432            True\n",
       "│    └─ViTEncoder (11)                   [32, 197, 768]       [32, 197, 768]       --                   True\n",
       "│    │    └─LayerNorm (LN1)              [32, 197, 768]       [32, 197, 768]       1,536                True\n",
       "│    │    └─MultiheadAttention (MSA)     --                   [32, 197, 768]       2,362,368            True\n",
       "│    │    └─LayerNorm (LN2)              [32, 197, 768]       [32, 197, 768]       1,536                True\n",
       "│    │    └─MLP_block (mlp)              [32, 197, 768]       [32, 197, 768]       4,722,432            True\n",
       "├─Sequential (classifier)                [32, 768]            [32, 2]              --                   True\n",
       "│    └─LayerNorm (0)                     [32, 768]            [32, 768]            1,536                True\n",
       "│    └─Linear (1)                        [32, 768]            [32, 2]              1,538                True\n",
       "========================================================================================================================\n",
       "Total params: 90,514,178\n",
       "Trainable params: 90,514,178\n",
       "Non-trainable params: 0\n",
       "Total mult-adds (Units.GIGABYTES): 5.52\n",
       "========================================================================================================================\n",
       "Input size (MB): 19.27\n",
       "Forward/backward pass size (MB): 3292.20\n",
       "Params size (MB): 229.20\n",
       "Estimated Total Size (MB): 3540.67\n",
       "========================================================================================================================"
      ]
     },
     "execution_count": 103,
     "metadata": {},
     "output_type": "execute_result"
    }
   ],
   "source": [
    "from torchinfo import summary\n",
    "\n",
    "vit = ViTbasehybrid(num_labels=len(classes), img_size=tuple(img_tensor.shape[1:]), \n",
    "                    batch_size=32)\n",
    "\n",
    "# Print a summary of our custom ViT model using torchinfo (uncomment for actual output)\n",
    "summary(model=vit,\n",
    "        input_size=(32, 3, 224, 224), # (batch_size, color_channels, height, width)\n",
    "        # col_names=[\"input_size\"], # uncomment for smaller output\n",
    "        col_names=[\"input_size\", \"output_size\", \"num_params\", \"trainable\"],\n",
    "        col_width=20,\n",
    "        row_settings=[\"var_names\"]\n",
    ")"
   ]
  },
  {
   "cell_type": "code",
   "execution_count": null,
   "metadata": {},
   "outputs": [],
   "source": []
  }
 ],
 "metadata": {
  "kernelspec": {
   "display_name": ".venv",
   "language": "python",
   "name": "python3"
  },
  "language_info": {
   "codemirror_mode": {
    "name": "ipython",
    "version": 3
   },
   "file_extension": ".py",
   "mimetype": "text/x-python",
   "name": "python",
   "nbconvert_exporter": "python",
   "pygments_lexer": "ipython3",
   "version": "3.12.3"
  }
 },
 "nbformat": 4,
 "nbformat_minor": 2
}
